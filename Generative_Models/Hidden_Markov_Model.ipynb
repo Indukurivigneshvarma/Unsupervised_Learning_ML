{
 "cells": [
  {
   "cell_type": "code",
   "execution_count": 11,
   "id": "a3738675",
   "metadata": {},
   "outputs": [],
   "source": [
    "import numpy as np\n",
    "from hmmlearn import hmm\n",
    "\n",
    "states = [\"Rainy\", \"Sunny\"]\n",
    "n_states = len(states)\n",
    "\n",
    "observations = [\"Walk\", \"Shop\", \"Clean\"]\n",
    "n_observations = len(observations)\n",
    "\n",
    "transition_probs = np.array([\n",
    "    [0.7, 0.3], \n",
    "    [0.4, 0.6]   \n",
    "])\n",
    "emission_probs = np.array([\n",
    "    [0.1, 0.4, 0.5], \n",
    "    [0.6, 0.3, 0.1]  \n",
    "])\n",
    "start_probs = np.array([0.5, 0.5]) \n"
   ]
  },
  {
   "cell_type": "code",
   "execution_count": 12,
   "id": "7edd387e",
   "metadata": {},
   "outputs": [
    {
     "name": "stderr",
     "output_type": "stream",
     "text": [
      "MultinomialHMM has undergone major changes. The previous version was implementing a CategoricalHMM (a special case of MultinomialHMM). This new implementation follows the standard definition for a Multinomial distribution (e.g. as in https://en.wikipedia.org/wiki/Multinomial_distribution). See these issues for details:\n",
      "https://github.com/hmmlearn/hmmlearn/issues/335\n",
      "https://github.com/hmmlearn/hmmlearn/issues/340\n"
     ]
    }
   ],
   "source": [
    "model = hmm.MultinomialHMM(n_components=n_states, n_iter=100, init_params=\"\", n_trials=1)\n",
    "\n",
    "model.startprob_ = start_probs\n",
    "model.transmat_ = transition_probs\n",
    "model.emissionprob_ = emission_probs\n"
   ]
  },
  {
   "cell_type": "code",
   "execution_count": null,
   "id": "11fe813f",
   "metadata": {},
   "outputs": [
    {
     "name": "stdout",
     "output_type": "stream",
     "text": [
      "Observed activities and corresponding hidden states:\n",
      "Step 1: Observed = Walk, Hidden State = Sunny\n",
      "Step 2: Observed = Shop, Hidden State = Rainy\n",
      "Step 3: Observed = Clean, Hidden State = Rainy\n",
      "Step 4: Observed = Walk, Hidden State = Sunny\n",
      "Step 5: Observed = Walk, Hidden State = Sunny\n",
      "Step 6: Observed = Shop, Hidden State = Rainy\n",
      "Step 7: Observed = Clean, Hidden State = Rainy\n",
      "Step 8: Observed = Walk, Hidden State = Sunny\n",
      "Step 9: Observed = Shop, Hidden State = Rainy\n",
      "Step 10: Observed = Clean, Hidden State = Rainy\n"
     ]
    }
   ],
   "source": [
    "obs_sequence = np.array([\n",
    "    [1,0,0],  \n",
    "    [0,1,0], \n",
    "    [0,0,1],  \n",
    "    [1,0,0],  \n",
    "    [1,0,0],  \n",
    "    [0,1,0], \n",
    "    [0,0,1], \n",
    "    [1,0,0],  \n",
    "    [0,1,0],  \n",
    "    [0,0,1],  \n",
    "], dtype=int)\n",
    "\n",
    "logprob, hidden_states = model.decode(obs_sequence, algorithm=\"viterbi\")\n",
    "print(\"Observed activities and corresponding hidden states:\")\n",
    "for i, row in enumerate(obs_sequence):\n",
    "    activity = observations[np.argmax(row)]\n",
    "    state = states[hidden_states[i]]\n",
    "    print(f\"Step {i+1}: Observed = {activity}, Hidden State = {state}\")"
   ]
  },
  {
   "cell_type": "code",
   "execution_count": 17,
   "id": "b8b71647",
   "metadata": {},
   "outputs": [
    {
     "name": "stdout",
     "output_type": "stream",
     "text": [
      "\n",
      "Generated activities and hidden states:\n",
      "Step 1: Generated = Clean, Hidden State = Rainy\n",
      "Step 2: Generated = Clean, Hidden State = Rainy\n",
      "Step 3: Generated = Clean, Hidden State = Rainy\n",
      "Step 4: Generated = Shop, Hidden State = Sunny\n",
      "Step 5: Generated = Walk, Hidden State = Sunny\n",
      "Step 6: Generated = Walk, Hidden State = Sunny\n",
      "Step 7: Generated = Shop, Hidden State = Rainy\n",
      "Step 8: Generated = Shop, Hidden State = Sunny\n",
      "Step 9: Generated = Shop, Hidden State = Sunny\n",
      "Step 10: Generated = Shop, Hidden State = Sunny\n"
     ]
    }
   ],
   "source": [
    "X, Z = model.sample(10)\n",
    "print(\"\\nGenerated activities and hidden states:\")\n",
    "for i, row in enumerate(X):\n",
    "    activity = observations[np.argmax(row)]\n",
    "    state = states[Z[i]]\n",
    "    print(f\"Step {i+1}: Generated = {activity}, Hidden State = {state}\")"
   ]
  },
  {
   "cell_type": "code",
   "execution_count": null,
   "id": "1bd3d125",
   "metadata": {},
   "outputs": [],
   "source": []
  }
 ],
 "metadata": {
  "kernelspec": {
   "display_name": "python_course",
   "language": "python",
   "name": "python3"
  },
  "language_info": {
   "codemirror_mode": {
    "name": "ipython",
    "version": 3
   },
   "file_extension": ".py",
   "mimetype": "text/x-python",
   "name": "python",
   "nbconvert_exporter": "python",
   "pygments_lexer": "ipython3",
   "version": "3.13.7"
  }
 },
 "nbformat": 4,
 "nbformat_minor": 5
}
