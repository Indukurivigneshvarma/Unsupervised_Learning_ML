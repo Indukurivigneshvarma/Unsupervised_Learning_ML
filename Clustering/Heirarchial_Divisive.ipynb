{
 "cells": [
  {
   "cell_type": "code",
   "execution_count": 9,
   "id": "9b26737d",
   "metadata": {},
   "outputs": [],
   "source": [
    "import pandas as pd\n",
    "from sklearn.datasets import load_iris\n",
    "from sklearn.preprocessing import StandardScaler\n",
    "from sklearn.cluster import KMeans\n",
    "from sklearn.metrics import silhouette_score\n",
    "\n",
    "iris = load_iris()\n",
    "X = iris.data\n",
    "scaler = StandardScaler()\n",
    "X_scaled = scaler.fit_transform(X)"
   ]
  },
  {
   "cell_type": "code",
   "execution_count": 10,
   "id": "d4f063c6",
   "metadata": {},
   "outputs": [],
   "source": [
    "def divisive_clustering(data, depth=0, max_depth=2):\n",
    "    if depth == max_depth or len(data) <= 1:\n",
    "        return [data] \n",
    "    kmeans = KMeans(n_clusters=2, random_state=42, n_init=10)\n",
    "    labels = kmeans.fit_predict(data)\n",
    "    \n",
    "    cluster_0 = data[labels == 0]\n",
    "    cluster_1 = data[labels == 1]\n",
    "    \n",
    "    return divisive_clustering(cluster_0, depth+1, max_depth) + \\\n",
    "          divisive_clustering(cluster_1, depth+1, max_depth)"
   ]
  },
  {
   "cell_type": "code",
   "execution_count": 11,
   "id": "1f8f4256",
   "metadata": {},
   "outputs": [
    {
     "name": "stdout",
     "output_type": "stream",
     "text": [
      "Number of clusters formed: 4\n",
      "Cluster 1 size: 53\n",
      "Cluster 2 size: 47\n",
      "Cluster 3 size: 25\n",
      "Cluster 4 size: 25\n"
     ]
    },
    {
     "name": "stderr",
     "output_type": "stream",
     "text": [
      "c:\\Users\\Bluepal\\anaconda3\\envs\\python_course\\Lib\\site-packages\\sklearn\\cluster\\_kmeans.py:1419: UserWarning: KMeans is known to have a memory leak on Windows with MKL, when there are less chunks than available threads. You can avoid it by setting the environment variable OMP_NUM_THREADS=1.\n",
      "  warnings.warn(\n",
      "c:\\Users\\Bluepal\\anaconda3\\envs\\python_course\\Lib\\site-packages\\sklearn\\cluster\\_kmeans.py:1419: UserWarning: KMeans is known to have a memory leak on Windows with MKL, when there are less chunks than available threads. You can avoid it by setting the environment variable OMP_NUM_THREADS=1.\n",
      "  warnings.warn(\n",
      "c:\\Users\\Bluepal\\anaconda3\\envs\\python_course\\Lib\\site-packages\\sklearn\\cluster\\_kmeans.py:1419: UserWarning: KMeans is known to have a memory leak on Windows with MKL, when there are less chunks than available threads. You can avoid it by setting the environment variable OMP_NUM_THREADS=1.\n",
      "  warnings.warn(\n"
     ]
    }
   ],
   "source": [
    "clusters = divisive_clustering(X_scaled, max_depth=2)\n",
    "print(f\"Number of clusters formed: {len(clusters)}\")\n",
    "\n",
    "for i, c in enumerate(clusters):\n",
    "    print(f\"Cluster {i+1} size: {len(c)}\")"
   ]
  },
  {
   "cell_type": "code",
   "execution_count": null,
   "id": "832f7543",
   "metadata": {},
   "outputs": [],
   "source": []
  }
 ],
 "metadata": {
  "kernelspec": {
   "display_name": "python_course",
   "language": "python",
   "name": "python3"
  },
  "language_info": {
   "codemirror_mode": {
    "name": "ipython",
    "version": 3
   },
   "file_extension": ".py",
   "mimetype": "text/x-python",
   "name": "python",
   "nbconvert_exporter": "python",
   "pygments_lexer": "ipython3",
   "version": "3.13.7"
  }
 },
 "nbformat": 4,
 "nbformat_minor": 5
}
